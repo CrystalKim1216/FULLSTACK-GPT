{
 "cells": [
  {
   "cell_type": "code",
   "execution_count": null,
   "id": "b66ccbbc",
   "metadata": {},
   "outputs": [],
   "source": [
    "from langchain.chat_models import ChatOpenAI\n",
    "from langchain.prompts import ChatPromptTemplate\n",
    "from langchain.callbacks import StreamingStdOutCallbackHandler\n",
    "\n",
    "chat = ChatOpenAI(\n",
    "  model='gpt-4o-mini', \n",
    "  max_tokens=150, \n",
    "  temperature=0.1,\n",
    "  streaming=True,\n",
    "  callbacks=[StreamingStdOutCallbackHandler()]\n",
    "\n",
    "\n",
    "chef_prompt = ChatPromptTemplate.from_messages(\n",
    "  [\n",
    "    (\"system\", \"You are a world-class international chef. You create easy to follow recipies for any type of cuisine with easy to find ingredients. And You always reply in Korean.\"),\n",
    "    (\"human\", \"I want to cook {cuisine} food.\"),\n",
    "  ]\n",
    ")\n",
    "\n",
    "chef_chain = chef_prompt | chat"
   ]
  },
  {
   "cell_type": "code",
   "execution_count": 7,
   "id": "c3283cb6",
   "metadata": {},
   "outputs": [
    {
     "name": "stdout",
     "output_type": "stream",
     "text": [
      "인도 요리를 만들고 싶으시군요! 간단한 인도식 커리 레시피를 소개해드릴게요. 이 레시피는 쉽게 구할 수 있는 재료로 만들 수 있습니다.\n",
      "\n",
      "### 치킨 커리 레시피\n",
      "\n",
      "#### 재료:\n",
      "- 닭고기 (가슴살 또는 허벅지살) 500g\n",
      "- 양파 1개 (다진 것)\n",
      "- 토마토 1개 (다진 것)\n",
      "- 마늘 3쪽 (다진 것)\n",
      "- 생강 1 작은 조각 (다진 것)\n",
      "- 요거트 1/2컵\n",
      "- 커리 가루 2 큰술\n",
      "- 강인도식 치킨 커리를 채식으로 변환하는 방법을 소개해드릴게요. 아래는 대체 재료와 그 준비 방법입니다.\n",
      "\n",
      "### 채식 커리 레시피\n",
      "\n",
      "#### 재료:\n",
      "- **닭고기 대체재**: 500g의 닭고기를 대신하여 **두부** 또는 **콩**(예: 병아리콩, 렌틸콩)을 사용할 수 있습니다. 두부는 물기를 제거하고 큐브 모양으로 자른 후, 팬에서 살짝 구워서 사용합니다. 콩은 미리 삶아 준비합니다.\n",
      "- **양파**: 1개 (다진 것)\n",
      "- **토마토"
     ]
    },
    {
     "data": {
      "text/plain": [
       "AIMessageChunk(content='인도식 치킨 커리를 채식으로 변환하는 방법을 소개해드릴게요. 아래는 대체 재료와 그 준비 방법입니다.\\n\\n### 채식 커리 레시피\\n\\n#### 재료:\\n- **닭고기 대체재**: 500g의 닭고기를 대신하여 **두부** 또는 **콩**(예: 병아리콩, 렌틸콩)을 사용할 수 있습니다. 두부는 물기를 제거하고 큐브 모양으로 자른 후, 팬에서 살짝 구워서 사용합니다. 콩은 미리 삶아 준비합니다.\\n- **양파**: 1개 (다진 것)\\n- **토마토')"
      ]
     },
     "execution_count": 7,
     "metadata": {},
     "output_type": "execute_result"
    }
   ],
   "source": [
    "veg_chef_prompt = ChatPromptTemplate.from_messages(\n",
    "  [\n",
    "    (\"system\", \"You are a vegetarian chef specialized on making traditional receipies vegetarian. You find alternative ingredients and explain their preparation. You don't radically modify the recipe. If there is no alternative for a food just say you don't know how to replace it.\"),\n",
    "    (\"human\", \"{recipe}\"),\n",
    "  ]\n",
    ")\n",
    "\n",
    "veg_chain = veg_chef_prompt | chat\n",
    "\n",
    "final_chain = {\"recipe\": chef_chain} | veg_chain\n",
    "\n",
    "final_chain.invoke({\n",
    "  \"cuisine\": \"indian\"\n",
    "})\n"
   ]
  }
 ],
 "metadata": {
  "kernelspec": {
   "display_name": "env",
   "language": "python",
   "name": "python3"
  },
  "language_info": {
   "codemirror_mode": {
    "name": "ipython",
    "version": 3
   },
   "file_extension": ".py",
   "mimetype": "text/x-python",
   "name": "python",
   "nbconvert_exporter": "python",
   "pygments_lexer": "ipython3",
   "version": "3.9.6"
  }
 },
 "nbformat": 4,
 "nbformat_minor": 5
}
